{
 "cells": [
  {
   "cell_type": "code",
   "execution_count": 57,
   "id": "d287e96f-4e0d-4bda-8d09-202a99df77e1",
   "metadata": {
    "scrolled": true,
    "tags": []
   },
   "outputs": [],
   "source": [
    "import random\n",
    "from collections import deque"
   ]
  },
  {
   "cell_type": "code",
   "execution_count": 26,
   "id": "ec9e5d33-0228-4c59-9ff0-4627a548ec43",
   "metadata": {
    "tags": []
   },
   "outputs": [],
   "source": [
    "class Grafo:\n",
    "    \n",
    "    def __init__(self):\n",
    "        self.grafo = {}\n",
    "    \n",
    "    def import_m(self, M='Nodo.txt'):\n",
    "        \"\"\"\n",
    "        Importa una matris de un documento de texto\n",
    "        \"\"\"\n",
    "        with open(M, \"r\" , encoding=\"utf-8\") as m:\n",
    "            Matriz = m.read().split('\\n')\n",
    "        \n",
    "        return Matriz\n",
    "        \n",
    "    def matrix_2_dict(self,data): \n",
    "        for linea in data:\n",
    "            origen, destino, peso = linea.split()\n",
    "            peso = int(peso)\n",
    "\n",
    "            if origen not in self.grafo:\n",
    "                self.grafo[origen] = {}\n",
    "            if destino not in self.grafo:\n",
    "                self.grafo[destino] = {}\n",
    "    \n",
    "            self.grafo[origen][destino] = peso\n",
    "            self.grafo[destino][origen] = peso\n",
    "\n",
    "        return self.grafo\n",
    "    \n",
    "\n",
    "\n",
    "        \n",
    "        \n",
    "  "
   ]
  },
  {
   "cell_type": "code",
   "execution_count": 27,
   "id": "e5d5ef86-be36-488e-a22c-0a7f8e70b23b",
   "metadata": {
    "tags": []
   },
   "outputs": [],
   "source": [
    "grafo=Grafo().matrix_2_dict(Grafo().import_m())"
   ]
  },
  {
   "cell_type": "code",
   "execution_count": 132,
   "id": "7e975e93-40d8-4fe4-9b7b-5e439b2ba5d3",
   "metadata": {
    "tags": []
   },
   "outputs": [],
   "source": [
    "def bfs(grafo, start, search):\n",
    "    \"\"\"\n",
    "    Encuentra todos los nodos accesibles desde el nodo dado usando BFS.\n",
    "\n",
    "    Args:\n",
    "    graph: El grafo que representa el problema.\n",
    "    start: El nodo inicial.\n",
    "\n",
    "    Returns:\n",
    "    Una lista de todos los nodos accesibles desde start.\n",
    "    \"\"\"\n",
    "\n",
    "  \n",
    "    frontera = [start]\n",
    "    explored = list(frontera)\n",
    " \n",
    "    while len(frontera)!=0:\n",
    "        print(\"Frontera\",frontera)\n",
    "        print(\"Esplorados\",explored)\n",
    "        current = frontera.pop(0)\n",
    "        if current == search:\n",
    "        \n",
    "            return explored\n",
    "\n",
    "        for neighbor in grafo[current]:\n",
    "            if (neighbor not in explored) and (neighbor not in frontera) :\n",
    "                explored.append(neighbor)\n",
    "                frontera.append(neighbor)\n",
    "                \n",
    "\n",
    "    return False\n"
   ]
  },
  {
   "cell_type": "code",
   "execution_count": 130,
   "id": "5736d6bd-15d6-4390-b72b-fbe4ddb28d94",
   "metadata": {
    "tags": []
   },
   "outputs": [],
   "source": [
    "def dfs(grafo, start, search):\n",
    "    \"\"\"\n",
    "    Encuentra todos los nodos accesibles desde el nodo dado usando BFS.\n",
    "\n",
    "    Args:\n",
    "    graph: El grafo que representa el problema.\n",
    "    start: El nodo inicial.\n",
    "\n",
    "    Returns:\n",
    "    Una lista de todos los nodos accesibles desde start.\n",
    "    \"\"\"\n",
    "\n",
    "  \n",
    "    frontera = [start]\n",
    "    explored = list(frontera)\n",
    " \n",
    "    while len(frontera)!=0:\n",
    "        print(\"Frontera\",frontera)\n",
    "        print(\"Esplorados\",explored)\n",
    "        current = frontera.pop()\n",
    "        if current == search:\n",
    "        \n",
    "            return explored\n",
    "\n",
    "        for neighbor in grafo[current]:\n",
    "            if (neighbor not in explored) and (neighbor not in frontera) :\n",
    "                explored.append(neighbor)\n",
    "                frontera.append(neighbor)\n",
    "                \n",
    "\n",
    "    return False"
   ]
  },
  {
   "cell_type": "code",
   "execution_count": 140,
   "id": "2d099595-f13c-4375-b503-254f608b5583",
   "metadata": {
    "tags": []
   },
   "outputs": [],
   "source": [
    "def ucs(graph, start, goal):\n",
    "    queue = [(0, start, [])]  # (costo, nodo, camino)\n",
    "    visited = set()  # Conjunto de nodos visitados\n",
    "\n",
    "    while queue:\n",
    "        queue.sort()  # Ordenar la cola por costo\n",
    "        cost, node, path = queue.pop(0)  # Extraer nodo de menor costo\n",
    "\n",
    "        if node not in visited:\n",
    "            path = path + [node]  # Actualizar camino\n",
    "            visited.add(node)  # Marcar nodo como visitado\n",
    "\n",
    "            if node == goal:\n",
    "                return path  # Si se alcanza el nodo objetivo, retornar camino\n",
    "\n",
    "            # Explorar nodos vecinos y añadirlos a la cola de prioridad\n",
    "            for neighbor, edge_cost in graph[node].items():\n",
    "                if neighbor not in visited:\n",
    "                    queue.append((cost + edge_cost, neighbor, path))\n",
    "\n",
    "    return None  # Si no se encuentra un camino desde el nodo inicial al objetivo\n"
   ]
  },
  {
   "cell_type": "code",
   "execution_count": 133,
   "id": "1a6d8a7c-4e3e-4fca-9253-9b09a10e43a3",
   "metadata": {
    "collapsed": true,
    "jupyter": {
     "outputs_hidden": true
    },
    "scrolled": true,
    "tags": []
   },
   "outputs": [
    {
     "name": "stdout",
     "output_type": "stream",
     "text": [
      "Frontera ['11']\n",
      "Esplorados ['11']\n",
      "Frontera ['5', '2']\n",
      "Esplorados ['11', '5', '2']\n",
      "Frontera ['2', '1', '12']\n",
      "Esplorados ['11', '5', '2', '1', '12']\n",
      "Frontera ['1', '12', '6', '10']\n",
      "Esplorados ['11', '5', '2', '1', '12', '6', '10']\n",
      "Frontera ['12', '6', '10', '7', '0']\n",
      "Esplorados ['11', '5', '2', '1', '12', '6', '10', '7', '0']\n",
      "Frontera ['6', '10', '7', '0']\n",
      "Esplorados ['11', '5', '2', '1', '12', '6', '10', '7', '0']\n",
      "Frontera ['10', '7', '0']\n",
      "Esplorados ['11', '5', '2', '1', '12', '6', '10', '7', '0']\n",
      "Frontera ['7', '0', '9', '3']\n",
      "Esplorados ['11', '5', '2', '1', '12', '6', '10', '7', '0', '9', '3']\n",
      "Frontera ['0', '9', '3']\n",
      "Esplorados ['11', '5', '2', '1', '12', '6', '10', '7', '0', '9', '3']\n",
      "Frontera ['9', '3', '8', '4']\n",
      "Esplorados ['11', '5', '2', '1', '12', '6', '10', '7', '0', '9', '3', '8', '4']\n",
      "Frontera ['3', '8', '4']\n",
      "Esplorados ['11', '5', '2', '1', '12', '6', '10', '7', '0', '9', '3', '8', '4']\n",
      "Frontera ['8', '4']\n",
      "Esplorados ['11', '5', '2', '1', '12', '6', '10', '7', '0', '9', '3', '8', '4']\n"
     ]
    },
    {
     "data": {
      "text/plain": [
       "['11', '5', '2', '1', '12', '6', '10', '7', '0', '9', '3', '8', '4']"
      ]
     },
     "execution_count": 133,
     "metadata": {},
     "output_type": "execute_result"
    }
   ],
   "source": [
    "bfs(grafo,\"11\",\"8\")"
   ]
  },
  {
   "cell_type": "code",
   "execution_count": 131,
   "id": "3f7c7897-aadd-4665-8212-52252600ddad",
   "metadata": {
    "collapsed": true,
    "jupyter": {
     "outputs_hidden": true
    },
    "tags": []
   },
   "outputs": [
    {
     "name": "stdout",
     "output_type": "stream",
     "text": [
      "Frontera ['11']\n",
      "Esplorados ['11']\n",
      "Frontera ['5', '2']\n",
      "Esplorados ['11', '5', '2']\n",
      "Frontera ['5', '6', '10']\n",
      "Esplorados ['11', '5', '2', '6', '10']\n",
      "Frontera ['5', '6', '9', '3']\n",
      "Esplorados ['11', '5', '2', '6', '10', '9', '3']\n",
      "Frontera ['5', '6', '9', '8']\n",
      "Esplorados ['11', '5', '2', '6', '10', '9', '3', '8']\n"
     ]
    },
    {
     "data": {
      "text/plain": [
       "['11', '5', '2', '6', '10', '9', '3', '8']"
      ]
     },
     "execution_count": 131,
     "metadata": {},
     "output_type": "execute_result"
    }
   ],
   "source": [
    "dfs(grafo,\"11\",\"8\")"
   ]
  },
  {
   "cell_type": "code",
   "execution_count": 93,
   "id": "43237ebc-6edd-4563-94b6-5e85652f6615",
   "metadata": {
    "tags": []
   },
   "outputs": [
    {
     "data": {
      "text/plain": [
       "{'7': {'1': 1, '0': 2},\n",
       " '1': {'7': 1, '0': 2, '12': 3, '5': 3},\n",
       " '0': {'7': 2, '1': 2, '8': 5, '4': 5},\n",
       " '12': {'1': 3, '5': 4},\n",
       " '5': {'1': 3, '12': 4, '2': 1, '11': 6},\n",
       " '8': {'0': 5, '4': 4, '3': 6, '9': 4},\n",
       " '4': {'0': 5, '8': 4},\n",
       " '2': {'5': 1, '11': 8, '6': 7, '10': 2},\n",
       " '11': {'5': 6, '2': 8},\n",
       " '6': {'2': 7, '10': 8},\n",
       " '10': {'2': 2, '6': 8, '9': 2, '3': 3},\n",
       " '3': {'8': 6, '9': 5, '10': 3},\n",
       " '9': {'8': 4, '3': 5, '10': 2}}"
      ]
     },
     "execution_count": 93,
     "metadata": {},
     "output_type": "execute_result"
    }
   ],
   "source": [
    "grafo"
   ]
  },
  {
   "cell_type": "code",
   "execution_count": 64,
   "id": "5d5815cf-0978-4fe5-b05e-cacdd3964817",
   "metadata": {
    "tags": []
   },
   "outputs": [
    {
     "name": "stdout",
     "output_type": "stream",
     "text": [
      "7\n",
      "1\n",
      "8\n",
      "4\n"
     ]
    }
   ],
   "source": [
    "for x in frontera:\n",
    "    print(x)"
   ]
  },
  {
   "cell_type": "code",
   "execution_count": 72,
   "id": "4ebe8423-59d9-4b0f-81d7-41cbeca384f8",
   "metadata": {
    "tags": []
   },
   "outputs": [],
   "source": [
    "frontera = []\n",
    "frontera= list(grafo[\"7\"].keys())"
   ]
  },
  {
   "cell_type": "code",
   "execution_count": 73,
   "id": "9ba90a53-dcb8-496d-b8c0-8323e7d88cae",
   "metadata": {
    "tags": []
   },
   "outputs": [
    {
     "name": "stdout",
     "output_type": "stream",
     "text": [
      "['1', '0']\n"
     ]
    }
   ],
   "source": [
    "print(frontera)"
   ]
  },
  {
   "cell_type": "code",
   "execution_count": 141,
   "id": "cca0b4f9-b2e2-4c3c-9b37-39e07c6aa2c5",
   "metadata": {
    "tags": []
   },
   "outputs": [
    {
     "name": "stdout",
     "output_type": "stream",
     "text": [
      "['11', '5', '2', '10', '9', '8']\n"
     ]
    }
   ],
   "source": [
    "resultado = ucs(grafo,\"11\", \"8\")\n",
    "print(resultado)"
   ]
  },
  {
   "cell_type": "code",
   "execution_count": null,
   "id": "9afcc148-749c-4c3d-9f2b-9027b43d0357",
   "metadata": {},
   "outputs": [],
   "source": []
  }
 ],
 "metadata": {
  "kernelspec": {
   "display_name": "Python 3 (ipykernel)",
   "language": "python",
   "name": "python3"
  },
  "language_info": {
   "codemirror_mode": {
    "name": "ipython",
    "version": 3
   },
   "file_extension": ".py",
   "mimetype": "text/x-python",
   "name": "python",
   "nbconvert_exporter": "python",
   "pygments_lexer": "ipython3",
   "version": "3.11.5"
  }
 },
 "nbformat": 4,
 "nbformat_minor": 5
}
